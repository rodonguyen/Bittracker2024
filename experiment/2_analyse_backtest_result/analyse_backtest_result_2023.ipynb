{
 "cells": [
  {
   "cell_type": "code",
   "execution_count": 1,
   "metadata": {},
   "outputs": [
    {
     "name": "stdout",
     "output_type": "stream",
     "text": [
      "Current Directory: d:\\Bittracker2023\\experiment\\2_analyse_backtest_result\n"
     ]
    }
   ],
   "source": [
    "import os\n",
    "\n",
    "current_directory = os.getcwd()\n",
    "print(\"Current Directory:\", current_directory)\n"
   ]
  },
  {
   "cell_type": "code",
   "execution_count": 2,
   "metadata": {},
   "outputs": [],
   "source": [
    "# import sys\n",
    "# sys.path.insert(0, './experiment/1_backtest')\n",
    "# sys.path.insert(0, '../1_backtest')\n",
    "import sys\n",
    "sys.path.append(\"../1_backtest\")\n",
    "\n",
    "import matplotlib.pyplot as plt\n",
    "import pandas \n",
    "import numpy\n",
    "import re\n",
    "import pickle\n",
    "import backtest\n",
    "import heapq\n",
    "\n",
    "plt.rcParams.update({'font.size': 18})"
   ]
  },
  {
   "attachments": {},
   "cell_type": "markdown",
   "metadata": {},
   "source": [
    "# Individual Analysis"
   ]
  },
  {
   "attachments": {},
   "cell_type": "markdown",
   "metadata": {},
   "source": [
    "## Important Functions"
   ]
  },
  {
   "cell_type": "code",
   "execution_count": 20,
   "metadata": {},
   "outputs": [],
   "source": [
    "def load_pkl_data(path_to_file):\n",
    "  with open(path_to_file,\"rb\") as file:\n",
    "    result = pickle.load(file, encoding='bytes')\n",
    "    # print('read_goodlist:', result)\n",
    "    return result\n",
    "\n",
    "def save_as_pkl_data(result, path_to_file):\n",
    "  with open(path_to_file,\"wb\") as file:\n",
    "    pickle.dump(result, file)\n",
    "\n",
    "def get_config_list(dataframe: pandas.DataFrame):\n",
    "  config_list = dataframe[['config_length', 'config_multiplier']]\n",
    "  return config_list.values.tolist()\n",
    "\n",
    "\n",
    "class GoodList():\n",
    "  '''\n",
    "  Store configurations and its associated profit as heapq\n",
    "  '''\n",
    "  def __init__(self, max_length=10):\n",
    "    self.toplist = []\n",
    "    self.count = 0\n",
    "    self.max_length = max_length\n",
    "\n",
    "  def push(self, value, content):\n",
    "    '''\n",
    "    Replace configuration associating with the smallest profit/balance with a better one (if there's any) \n",
    "    '''\n",
    "    if len(self.toplist) < self.max_length:\n",
    "      heapq.heappush(self.toplist, (value, content))\n",
    "    elif value > heapq.nsmallest(1, self.toplist)[0][0]:\n",
    "      heapq.heapreplace(self.toplist, (value, content))\n",
    "\n",
    "\n",
    "def get_top10_length_riskAdjusted(df):\n",
    "    # Length\n",
    "    goodlist_length = GoodList()\n",
    "    for length in range(7,23):\n",
    "        balance = list(df[df['config_length'].values == length]['balance'])\n",
    "\n",
    "        # Calculate risk-adjusted return for\n",
    "        median_return = numpy.median(balance)\n",
    "        std = numpy.std(balance)\n",
    "        sharpe_ratio = median_return/std\n",
    "\n",
    "        goodlist_length.push(sharpe_ratio, length)\n",
    "\n",
    "    return goodlist_length\n",
    "\n",
    "def get_top10_multiplier_riskAdjusted(df):\n",
    "    # Length\n",
    "    goodlist_multiplier = GoodList()\n",
    "    for multiplier in numpy.arange(7,23):\n",
    "        balance = list(df[df['config_multiplier'].values == multiplier]['balance'])\n",
    "\n",
    "        # Calculate risk-adjusted return \n",
    "        median_return = numpy.median(balance)\n",
    "        std = numpy.std(balance)\n",
    "        sharpe_ratio = median_return/std\n",
    "\n",
    "        goodlist_multiplier.push(sharpe_ratio, multiplier)\n",
    "\n",
    "    return goodlist_multiplier\n",
    "\n",
    "def get_top_backtest_result_with_these_configs(backtest_df: pandas.DataFrame, good_length: list, good_multiplier: list, output_path: str):\n",
    "    '''\n",
    "    Get top 10 config that has either length or multiplier in top(10) length and top(10) multiplier\n",
    "    '''\n",
    "    # if output_path == None: \n",
    "    #     output_path = f\"backtest_summary/backtest_withBestConfig_{coin_timeframe}.csv\"\n",
    "    \n",
    "    backtest_df.sort_values(by='balance', ascending=False, inplace=True)\n",
    "    backtest_df = backtest_df[ backtest_df['config_length'].isin(good_length) & \n",
    "                               backtest_df['config_multiplier'].isin(good_multiplier)]\n",
    "    backtest_df = backtest_df.iloc[:50,:]\n",
    "    backtest_df.to_csv(output_path)\n",
    "    return backtest_df\n",
    "    \n",
    "\n",
    "def save_good_configs(coin_timeframe, good_lengths, good_multipliers, good_config_pairs, filepath = './good_configs.csv'):\n",
    "    with open(filepath, \"a\") as file:\n",
    "        file.write('{}, \\\"{}\\\", \\\"{}\\\", \\\"{}\\\"\\n'.format(coin_timeframe, str(good_lengths)[1:-1], str(good_multipliers)[1:-1], str(good_config_pairs)))\n",
    "\n",
    "\n",
    "\n",
    "def plot_balance_against_length_multiplier(df, coin_timeframe):\n",
    "    df['balance_std'] = (df['balance'] - df['balance'].mean()) / df['balance'].std()\n",
    "\n",
    "    # Plot balances distribution against Length and Multiplier \n",
    "    balance_for_lengths = []\n",
    "    balance_for_multipliers = []\n",
    "    \n",
    "    # Length\n",
    "    for length in range(4,21):\n",
    "      balance_for_each_length = list(df[df['config_length'].values == length]['balance'])\n",
    "      balance_for_lengths.append(balance_for_each_length)\n",
    "\n",
    "    fig = plt.figure(figsize=[22, 6])\n",
    "    ax = fig.add_subplot(1, 2, 1)\n",
    "    ax.boxplot(balance_for_lengths);\n",
    "    ax.set_xticklabels(range(4,21))\n",
    "    ax.set_title('Balance vs. Length')\n",
    "\n",
    "    # Multiplier\n",
    "    for multiplier in numpy.arange(4,20.5,0.5):\n",
    "      balance_for_each_multiplier = list(df[df['config_multiplier'].values == multiplier]['balance'])\n",
    "      balance_for_multipliers.append(balance_for_each_multiplier)\n",
    "\n",
    "    ax = fig.add_subplot(1, 2, 2)\n",
    "    ax.boxplot(balance_for_multipliers);\n",
    "    ax.set_xticklabels(numpy.arange(4,20.5,0.5))\n",
    "    ax.set_title('Balance vs. Multiplier')\n",
    "\n",
    "def plot_pnl_distribution_for_topConfigs(df, good_length, good_multiplier):\n",
    "    '''\n",
    "    Plot PnL histogram for TOP lengths and multipliers\n",
    "    ''' \n",
    "    profit_amounts = []\n",
    "    loss_amounts = []\n",
    "    for multiplier in good_multiplier:\n",
    "      for length in good_length:\n",
    "        queried_df = df.copy().query(f\"config_length=={length} & config_multiplier=={multiplier}\")\n",
    "        profit_amounts = profit_amounts + re.sub(\"\\[|\\]|\\\"|\\s\", \"\", queried_df.iloc[0].profit_amounts).split(',')\n",
    "        loss_amounts = loss_amounts + re.sub(\"\\[|\\]|\\\"|\\s\", \"\", queried_df.iloc[0].loss_amounts).split(',')\n",
    "\n",
    "    profit_amounts = [float(x) for x in profit_amounts]\n",
    "    loss_amounts = [float(x) for x in loss_amounts]\n",
    "\n",
    "    fig = plt.figure(figsize=[16, 9])\n",
    "    ax = fig.add_subplot(2, 1, 1)\n",
    "    ax.hist(profit_amounts, 101);\n",
    "    # ax.set_xticks(range(0,600,20))  #\n",
    "    ax.set_title('Profits distribution of Top Lengths')\n",
    "\n",
    "    ax = fig.add_subplot(2, 1, 2)\n",
    "    ax.hist(loss_amounts, 101);\n",
    "    # ax.set_xticks(range(0,600,20))\n",
    "    ax.set_title('Losses distribution of Top Multipliers')\n",
    "\n",
    "def plot_pnl_distribution_for_bestConfig(df, best_length, best_multiplier):\n",
    "    '''\n",
    "    Plot PnL histogram just for best length and multiplier\n",
    "    '''\n",
    "\n",
    "    print(\"Average profit and loss per trade of the best_length and best_multiplier\")\n",
    "    queried_df = df.query(f\"config_length=={best_length} & config_multiplier=={best_multiplier}\").copy()\n",
    "    print(queried_df[['average_profit','average_loss']])\n",
    "\n",
    "    # Convert strings to list\n",
    "    profit_amounts = []\n",
    "    loss_amounts = []\n",
    "    \n",
    "    # Regex operation is to remove punctuation marks and return a 'clean' string of numbers\n",
    "    profit_amounts = profit_amounts + re.sub(\"\\[|\\]|\\\"|\\s\", \"\", queried_df.iloc[0].profit_amounts).split(',') \n",
    "    loss_amounts = loss_amounts + re.sub(\"\\[|\\]|\\\"|\\s\", \"\", queried_df.iloc[0].loss_amounts).split(',')\n",
    "\n",
    "    # Convert int to float\n",
    "    profit_amounts = [float(x) for x in profit_amounts]\n",
    "    loss_amounts = [float(x) for x in loss_amounts]\n",
    "\n",
    "    fig = plt.figure(figsize=[16, 9])\n",
    "    ax = fig.add_subplot(2, 1, 1)\n",
    "    ax.hist(profit_amounts, 101);\n",
    "    # ax.set_xticks(range(0,600,20))  #\n",
    "    ax.set_title('Profits distribution of The Best Length')\n",
    "\n",
    "    ax = fig.add_subplot(2, 1, 2)\n",
    "    ax.hist(loss_amounts, 101);\n",
    "    # ax.set_xticks(range(0,600,20))\n",
    "    ax.set_title('Losses distribution of The Best Multiplier')\n"
   ]
  },
  {
   "cell_type": "markdown",
   "metadata": {},
   "source": [
    "## Analyse backtest result distribution, pick top configs with highest risk-adjusted returns"
   ]
  },
  {
   "cell_type": "code",
   "execution_count": 28,
   "metadata": {},
   "outputs": [
    {
     "name": "stdout",
     "output_type": "stream",
     "text": [
      "good_length:\n",
      "[8, 17, 13, 21, 16, 12, 19, 20, 18, 22] \n",
      "good_multiplier:\n",
      "[18, 17, 19, 10, 9, 8, 22, 7, 21, 20]\n",
      "best_length: 18 \n",
      "best_multiplier: 7\n"
     ]
    },
    {
     "data": {
      "image/png": "[encoded data removed]",
      "text/plain": [
       "<Figure size 2200x600 with 2 Axes>"
      ]
     },
     "metadata": {},
     "output_type": "display_data"
    }
   ],
   "source": [
    "coin = 'btc'\n",
    "timeframe = '4h'\n",
    "coin_timeframe = f'{coin}_{timeframe}'\n",
    "backtest_result_df = pandas.read_csv(f\"../1_backtest/backtest_result_{coin_timeframe}.csv\")\n",
    "backtest_result_df.fillna(0, inplace=True)\n",
    "\n",
    "top10_length = get_top10_length_riskAdjusted(backtest_result_df).toplist\n",
    "top10_multiplier = get_top10_multiplier_riskAdjusted(backtest_result_df).toplist\n",
    "\n",
    "good_length_list = [item[1] for item in top10_length]\n",
    "good_multiplier_list = [item[1] for item in top10_multiplier]\n",
    "\n",
    "best_length = heapq.nlargest(1, top10_length)[0][1]\n",
    "best_multiplier = heapq.nlargest(1, top10_multiplier)[0][1]\n",
    "\n",
    "print(f'good_length:\\n{good_length_list} ')\n",
    "print(f'good_multiplier:\\n{good_multiplier_list}')\n",
    "print(f'best_length: {best_length} ')\n",
    "print(f'best_multiplier: {best_multiplier}')\n",
    "\n",
    "plot_balance_against_length_multiplier(backtest_result_df, coin_timeframe)\n",
    "\n",
    "backtest_result_df = get_top_backtest_result_with_these_configs(backtest_result_df, good_length_list, good_multiplier_list, f\"./backtest_result_filtered_with_good_configs_{coin_timeframe}.csv\")\n",
    "\n",
    "# Don't think we need this data which can't share any good info: \n",
    "# good_config_pairs = get_config_list(backtest_result_df)\n",
    "# save_good_configs(coin_timeframe, good_length, good_multiplier, good_config_pairs, f\"./good_configs_{coin_timeframe}.csv\")"
   ]
  },
  {
   "cell_type": "markdown",
   "metadata": {},
   "source": [
    "## Backtest again using top configs on data of different period"
   ]
  },
  {
   "cell_type": "code",
   "execution_count": 30,
   "metadata": {},
   "outputs": [
    {
     "name": "stdout",
     "output_type": "stream",
     "text": [
      "coin = btc, timeframe = 4h\n",
      "length_of_df = 4480 length = 8, multiplier = 18\n"
     ]
    },
    {
     "name": "stderr",
     "output_type": "stream",
     "text": [
      "c:\\Users\\duy8a\\AppData\\Local\\Programs\\Python\\Python310\\lib\\site-packages\\numpy\\lib\\function_base.py:520: RuntimeWarning: Mean of empty slice.\n",
      "  avg = a.mean(axis, **keepdims_kw)\n",
      "c:\\Users\\duy8a\\AppData\\Local\\Programs\\Python\\Python310\\lib\\site-packages\\numpy\\core\\_methods.py:129: RuntimeWarning: invalid value encountered in scalar divide\n",
      "  ret = ret.dtype.type(ret / rcount)\n"
     ]
    },
    {
     "name": "stdout",
     "output_type": "stream",
     "text": [
      "length = 8, multiplier = 17\n"
     ]
    },
    {
     "name": "stderr",
     "output_type": "stream",
     "text": [
      "c:\\Users\\duy8a\\AppData\\Local\\Programs\\Python\\Python310\\lib\\site-packages\\numpy\\lib\\function_base.py:520: RuntimeWarning: Mean of empty slice.\n",
      "  avg = a.mean(axis, **keepdims_kw)\n",
      "c:\\Users\\duy8a\\AppData\\Local\\Programs\\Python\\Python310\\lib\\site-packages\\numpy\\core\\_methods.py:129: RuntimeWarning: invalid value encountered in scalar divide\n",
      "  ret = ret.dtype.type(ret / rcount)\n"
     ]
    },
    {
     "name": "stdout",
     "output_type": "stream",
     "text": [
      "length = 8, multiplier = 19\n"
     ]
    },
    {
     "name": "stderr",
     "output_type": "stream",
     "text": [
      "c:\\Users\\duy8a\\AppData\\Local\\Programs\\Python\\Python310\\lib\\site-packages\\numpy\\lib\\function_base.py:520: RuntimeWarning: Mean of empty slice.\n",
      "  avg = a.mean(axis, **keepdims_kw)\n",
      "c:\\Users\\duy8a\\AppData\\Local\\Programs\\Python\\Python310\\lib\\site-packages\\numpy\\core\\_methods.py:129: RuntimeWarning: invalid value encountered in scalar divide\n",
      "  ret = ret.dtype.type(ret / rcount)\n"
     ]
    },
    {
     "name": "stdout",
     "output_type": "stream",
     "text": [
      "length = 8, multiplier = 10\n",
      "length = 8, multiplier = 9\n",
      "length = 8, multiplier = 8\n",
      "length = 8, multiplier = 22\n"
     ]
    },
    {
     "name": "stderr",
     "output_type": "stream",
     "text": [
      "c:\\Users\\duy8a\\AppData\\Local\\Programs\\Python\\Python310\\lib\\site-packages\\numpy\\lib\\function_base.py:520: RuntimeWarning: Mean of empty slice.\n",
      "  avg = a.mean(axis, **keepdims_kw)\n",
      "c:\\Users\\duy8a\\AppData\\Local\\Programs\\Python\\Python310\\lib\\site-packages\\numpy\\core\\_methods.py:129: RuntimeWarning: invalid value encountered in scalar divide\n",
      "  ret = ret.dtype.type(ret / rcount)\n"
     ]
    },
    {
     "name": "stdout",
     "output_type": "stream",
     "text": [
      "length = 8, multiplier = 7\n",
      "length = 8, multiplier = 21\n"
     ]
    },
    {
     "name": "stderr",
     "output_type": "stream",
     "text": [
      "c:\\Users\\duy8a\\AppData\\Local\\Programs\\Python\\Python310\\lib\\site-packages\\numpy\\lib\\function_base.py:520: RuntimeWarning: Mean of empty slice.\n",
      "  avg = a.mean(axis, **keepdims_kw)\n",
      "c:\\Users\\duy8a\\AppData\\Local\\Programs\\Python\\Python310\\lib\\site-packages\\numpy\\core\\_methods.py:129: RuntimeWarning: invalid value encountered in scalar divide\n",
      "  ret = ret.dtype.type(ret / rcount)\n"
     ]
    },
    {
     "name": "stdout",
     "output_type": "stream",
     "text": [
      "length = 8, multiplier = 20\n"
     ]
    },
    {
     "name": "stderr",
     "output_type": "stream",
     "text": [
      "c:\\Users\\duy8a\\AppData\\Local\\Programs\\Python\\Python310\\lib\\site-packages\\numpy\\lib\\function_base.py:520: RuntimeWarning: Mean of empty slice.\n",
      "  avg = a.mean(axis, **keepdims_kw)\n",
      "c:\\Users\\duy8a\\AppData\\Local\\Programs\\Python\\Python310\\lib\\site-packages\\numpy\\core\\_methods.py:129: RuntimeWarning: invalid value encountered in scalar divide\n",
      "  ret = ret.dtype.type(ret / rcount)\n"
     ]
    },
    {
     "name": "stdout",
     "output_type": "stream",
     "text": [
      "\n",
      "length = 17, multiplier = 18\n"
     ]
    },
    {
     "name": "stderr",
     "output_type": "stream",
     "text": [
      "c:\\Users\\duy8a\\AppData\\Local\\Programs\\Python\\Python310\\lib\\site-packages\\numpy\\lib\\function_base.py:520: RuntimeWarning: Mean of empty slice.\n",
      "  avg = a.mean(axis, **keepdims_kw)\n",
      "c:\\Users\\duy8a\\AppData\\Local\\Programs\\Python\\Python310\\lib\\site-packages\\numpy\\core\\_methods.py:129: RuntimeWarning: invalid value encountered in scalar divide\n",
      "  ret = ret.dtype.type(ret / rcount)\n"
     ]
    },
    {
     "name": "stdout",
     "output_type": "stream",
     "text": [
      "length = 17, multiplier = 17\n",
      "length = 17, multiplier = 19\n"
     ]
    },
    {
     "name": "stderr",
     "output_type": "stream",
     "text": [
      "c:\\Users\\duy8a\\AppData\\Local\\Programs\\Python\\Python310\\lib\\site-packages\\numpy\\lib\\function_base.py:520: RuntimeWarning: Mean of empty slice.\n",
      "  avg = a.mean(axis, **keepdims_kw)\n",
      "c:\\Users\\duy8a\\AppData\\Local\\Programs\\Python\\Python310\\lib\\site-packages\\numpy\\core\\_methods.py:129: RuntimeWarning: invalid value encountered in scalar divide\n",
      "  ret = ret.dtype.type(ret / rcount)\n"
     ]
    },
    {
     "name": "stdout",
     "output_type": "stream",
     "text": [
      "length = 17, multiplier = 10\n",
      "length = 17, multiplier = 9\n",
      "length = 17, multiplier = 8\n",
      "length = 17, multiplier = 22\n"
     ]
    },
    {
     "name": "stderr",
     "output_type": "stream",
     "text": [
      "c:\\Users\\duy8a\\AppData\\Local\\Programs\\Python\\Python310\\lib\\site-packages\\numpy\\lib\\function_base.py:520: RuntimeWarning: Mean of empty slice.\n",
      "  avg = a.mean(axis, **keepdims_kw)\n",
      "c:\\Users\\duy8a\\AppData\\Local\\Programs\\Python\\Python310\\lib\\site-packages\\numpy\\core\\_methods.py:129: RuntimeWarning: invalid value encountered in scalar divide\n",
      "  ret = ret.dtype.type(ret / rcount)\n"
     ]
    },
    {
     "name": "stdout",
     "output_type": "stream",
     "text": [
      "length = 17, multiplier = 7\n",
      "length = 17, multiplier = 21\n"
     ]
    },
    {
     "name": "stderr",
     "output_type": "stream",
     "text": [
      "c:\\Users\\duy8a\\AppData\\Local\\Programs\\Python\\Python310\\lib\\site-packages\\numpy\\lib\\function_base.py:520: RuntimeWarning: Mean of empty slice.\n",
      "  avg = a.mean(axis, **keepdims_kw)\n",
      "c:\\Users\\duy8a\\AppData\\Local\\Programs\\Python\\Python310\\lib\\site-packages\\numpy\\core\\_methods.py:129: RuntimeWarning: invalid value encountered in scalar divide\n",
      "  ret = ret.dtype.type(ret / rcount)\n"
     ]
    },
    {
     "name": "stdout",
     "output_type": "stream",
     "text": [
      "length = 17, multiplier = 20\n"
     ]
    },
    {
     "name": "stderr",
     "output_type": "stream",
     "text": [
      "c:\\Users\\duy8a\\AppData\\Local\\Programs\\Python\\Python310\\lib\\site-packages\\numpy\\lib\\function_base.py:520: RuntimeWarning: Mean of empty slice.\n",
      "  avg = a.mean(axis, **keepdims_kw)\n",
      "c:\\Users\\duy8a\\AppData\\Local\\Programs\\Python\\Python310\\lib\\site-packages\\numpy\\core\\_methods.py:129: RuntimeWarning: invalid value encountered in scalar divide\n",
      "  ret = ret.dtype.type(ret / rcount)\n"
     ]
    },
    {
     "name": "stdout",
     "output_type": "stream",
     "text": [
      "\n",
      "length = 13, multiplier = 18\n"
     ]
    },
    {
     "name": "stderr",
     "output_type": "stream",
     "text": [
      "c:\\Users\\duy8a\\AppData\\Local\\Programs\\Python\\Python310\\lib\\site-packages\\numpy\\lib\\function_base.py:520: RuntimeWarning: Mean of empty slice.\n",
      "  avg = a.mean(axis, **keepdims_kw)\n",
      "c:\\Users\\duy8a\\AppData\\Local\\Programs\\Python\\Python310\\lib\\site-packages\\numpy\\core\\_methods.py:129: RuntimeWarning: invalid value encountered in scalar divide\n",
      "  ret = ret.dtype.type(ret / rcount)\n"
     ]
    },
    {
     "name": "stdout",
     "output_type": "stream",
     "text": [
      "length = 13, multiplier = 17\n",
      "length = 13, multiplier = 19\n"
     ]
    },
    {
     "name": "stderr",
     "output_type": "stream",
     "text": [
      "c:\\Users\\duy8a\\AppData\\Local\\Programs\\Python\\Python310\\lib\\site-packages\\numpy\\lib\\function_base.py:520: RuntimeWarning: Mean of empty slice.\n",
      "  avg = a.mean(axis, **keepdims_kw)\n",
      "c:\\Users\\duy8a\\AppData\\Local\\Programs\\Python\\Python310\\lib\\site-packages\\numpy\\core\\_methods.py:129: RuntimeWarning: invalid value encountered in scalar divide\n",
      "  ret = ret.dtype.type(ret / rcount)\n"
     ]
    },
    {
     "name": "stdout",
     "output_type": "stream",
     "text": [
      "length = 13, multiplier = 10\n",
      "length = 13, multiplier = 9\n",
      "length = 13, multiplier = 8\n",
      "length = 13, multiplier = 22\n"
     ]
    },
    {
     "name": "stderr",
     "output_type": "stream",
     "text": [
      "c:\\Users\\duy8a\\AppData\\Local\\Programs\\Python\\Python310\\lib\\site-packages\\numpy\\lib\\function_base.py:520: RuntimeWarning: Mean of empty slice.\n",
      "  avg = a.mean(axis, **keepdims_kw)\n",
      "c:\\Users\\duy8a\\AppData\\Local\\Programs\\Python\\Python310\\lib\\site-packages\\numpy\\core\\_methods.py:129: RuntimeWarning: invalid value encountered in scalar divide\n",
      "  ret = ret.dtype.type(ret / rcount)\n"
     ]
    },
    {
     "name": "stdout",
     "output_type": "stream",
     "text": [
      "length = 13, multiplier = 7\n",
      "length = 13, multiplier = 21\n"
     ]
    },
    {
     "name": "stderr",
     "output_type": "stream",
     "text": [
      "c:\\Users\\duy8a\\AppData\\Local\\Programs\\Python\\Python310\\lib\\site-packages\\numpy\\lib\\function_base.py:520: RuntimeWarning: Mean of empty slice.\n",
      "  avg = a.mean(axis, **keepdims_kw)\n",
      "c:\\Users\\duy8a\\AppData\\Local\\Programs\\Python\\Python310\\lib\\site-packages\\numpy\\core\\_methods.py:129: RuntimeWarning: invalid value encountered in scalar divide\n",
      "  ret = ret.dtype.type(ret / rcount)\n"
     ]
    },
    {
     "name": "stdout",
     "output_type": "stream",
     "text": [
      "length = 13, multiplier = 20\n"
     ]
    },
    {
     "name": "stderr",
     "output_type": "stream",
     "text": [
      "c:\\Users\\duy8a\\AppData\\Local\\Programs\\Python\\Python310\\lib\\site-packages\\numpy\\lib\\function_base.py:520: RuntimeWarning: Mean of empty slice.\n",
      "  avg = a.mean(axis, **keepdims_kw)\n",
      "c:\\Users\\duy8a\\AppData\\Local\\Programs\\Python\\Python310\\lib\\site-packages\\numpy\\core\\_methods.py:129: RuntimeWarning: invalid value encountered in scalar divide\n",
      "  ret = ret.dtype.type(ret / rcount)\n"
     ]
    },
    {
     "name": "stdout",
     "output_type": "stream",
     "text": [
      "\n",
      "length = 21, multiplier = 18\n"
     ]
    },
    {
     "name": "stderr",
     "output_type": "stream",
     "text": [
      "c:\\Users\\duy8a\\AppData\\Local\\Programs\\Python\\Python310\\lib\\site-packages\\numpy\\lib\\function_base.py:520: RuntimeWarning: Mean of empty slice.\n",
      "  avg = a.mean(axis, **keepdims_kw)\n",
      "c:\\Users\\duy8a\\AppData\\Local\\Programs\\Python\\Python310\\lib\\site-packages\\numpy\\core\\_methods.py:129: RuntimeWarning: invalid value encountered in scalar divide\n",
      "  ret = ret.dtype.type(ret / rcount)\n"
     ]
    },
    {
     "name": "stdout",
     "output_type": "stream",
     "text": [
      "length = 21, multiplier = 17\n",
      "length = 21, multiplier = 19\n"
     ]
    },
    {
     "name": "stderr",
     "output_type": "stream",
     "text": [
      "c:\\Users\\duy8a\\AppData\\Local\\Programs\\Python\\Python310\\lib\\site-packages\\numpy\\lib\\function_base.py:520: RuntimeWarning: Mean of empty slice.\n",
      "  avg = a.mean(axis, **keepdims_kw)\n",
      "c:\\Users\\duy8a\\AppData\\Local\\Programs\\Python\\Python310\\lib\\site-packages\\numpy\\core\\_methods.py:129: RuntimeWarning: invalid value encountered in scalar divide\n",
      "  ret = ret.dtype.type(ret / rcount)\n"
     ]
    },
    {
     "name": "stdout",
     "output_type": "stream",
     "text": [
      "length = 21, multiplier = 10\n",
      "length = 21, multiplier = 9\n",
      "length = 21, multiplier = 8\n",
      "length = 21, multiplier = 22\n"
     ]
    },
    {
     "name": "stderr",
     "output_type": "stream",
     "text": [
      "c:\\Users\\duy8a\\AppData\\Local\\Programs\\Python\\Python310\\lib\\site-packages\\numpy\\lib\\function_base.py:520: RuntimeWarning: Mean of empty slice.\n",
      "  avg = a.mean(axis, **keepdims_kw)\n",
      "c:\\Users\\duy8a\\AppData\\Local\\Programs\\Python\\Python310\\lib\\site-packages\\numpy\\core\\_methods.py:129: RuntimeWarning: invalid value encountered in scalar divide\n",
      "  ret = ret.dtype.type(ret / rcount)\n"
     ]
    },
    {
     "name": "stdout",
     "output_type": "stream",
     "text": [
      "length = 21, multiplier = 7\n",
      "length = 21, multiplier = 21\n"
     ]
    },
    {
     "name": "stderr",
     "output_type": "stream",
     "text": [
      "c:\\Users\\duy8a\\AppData\\Local\\Programs\\Python\\Python310\\lib\\site-packages\\numpy\\lib\\function_base.py:520: RuntimeWarning: Mean of empty slice.\n",
      "  avg = a.mean(axis, **keepdims_kw)\n",
      "c:\\Users\\duy8a\\AppData\\Local\\Programs\\Python\\Python310\\lib\\site-packages\\numpy\\core\\_methods.py:129: RuntimeWarning: invalid value encountered in scalar divide\n",
      "  ret = ret.dtype.type(ret / rcount)\n"
     ]
    },
    {
     "name": "stdout",
     "output_type": "stream",
     "text": [
      "length = 21, multiplier = 20\n"
     ]
    },
    {
     "name": "stderr",
     "output_type": "stream",
     "text": [
      "c:\\Users\\duy8a\\AppData\\Local\\Programs\\Python\\Python310\\lib\\site-packages\\numpy\\lib\\function_base.py:520: RuntimeWarning: Mean of empty slice.\n",
      "  avg = a.mean(axis, **keepdims_kw)\n",
      "c:\\Users\\duy8a\\AppData\\Local\\Programs\\Python\\Python310\\lib\\site-packages\\numpy\\core\\_methods.py:129: RuntimeWarning: invalid value encountered in scalar divide\n",
      "  ret = ret.dtype.type(ret / rcount)\n"
     ]
    },
    {
     "name": "stdout",
     "output_type": "stream",
     "text": [
      "\n",
      "length = 16, multiplier = 18\n"
     ]
    },
    {
     "name": "stderr",
     "output_type": "stream",
     "text": [
      "c:\\Users\\duy8a\\AppData\\Local\\Programs\\Python\\Python310\\lib\\site-packages\\numpy\\lib\\function_base.py:520: RuntimeWarning: Mean of empty slice.\n",
      "  avg = a.mean(axis, **keepdims_kw)\n",
      "c:\\Users\\duy8a\\AppData\\Local\\Programs\\Python\\Python310\\lib\\site-packages\\numpy\\core\\_methods.py:129: RuntimeWarning: invalid value encountered in scalar divide\n",
      "  ret = ret.dtype.type(ret / rcount)\n"
     ]
    },
    {
     "name": "stdout",
     "output_type": "stream",
     "text": [
      "length = 16, multiplier = 17\n",
      "length = 16, multiplier = 19\n"
     ]
    },
    {
     "name": "stderr",
     "output_type": "stream",
     "text": [
      "c:\\Users\\duy8a\\AppData\\Local\\Programs\\Python\\Python310\\lib\\site-packages\\numpy\\lib\\function_base.py:520: RuntimeWarning: Mean of empty slice.\n",
      "  avg = a.mean(axis, **keepdims_kw)\n",
      "c:\\Users\\duy8a\\AppData\\Local\\Programs\\Python\\Python310\\lib\\site-packages\\numpy\\core\\_methods.py:129: RuntimeWarning: invalid value encountered in scalar divide\n",
      "  ret = ret.dtype.type(ret / rcount)\n"
     ]
    },
    {
     "name": "stdout",
     "output_type": "stream",
     "text": [
      "length = 16, multiplier = 10\n",
      "length = 16, multiplier = 9\n",
      "length = 16, multiplier = 8\n",
      "length = 16, multiplier = 22\n"
     ]
    },
    {
     "name": "stderr",
     "output_type": "stream",
     "text": [
      "c:\\Users\\duy8a\\AppData\\Local\\Programs\\Python\\Python310\\lib\\site-packages\\numpy\\lib\\function_base.py:520: RuntimeWarning: Mean of empty slice.\n",
      "  avg = a.mean(axis, **keepdims_kw)\n",
      "c:\\Users\\duy8a\\AppData\\Local\\Programs\\Python\\Python310\\lib\\site-packages\\numpy\\core\\_methods.py:129: RuntimeWarning: invalid value encountered in scalar divide\n",
      "  ret = ret.dtype.type(ret / rcount)\n"
     ]
    },
    {
     "name": "stdout",
     "output_type": "stream",
     "text": [
      "length = 16, multiplier = 7\n",
      "length = 16, multiplier = 21\n"
     ]
    },
    {
     "name": "stderr",
     "output_type": "stream",
     "text": [
      "c:\\Users\\duy8a\\AppData\\Local\\Programs\\Python\\Python310\\lib\\site-packages\\numpy\\lib\\function_base.py:520: RuntimeWarning: Mean of empty slice.\n",
      "  avg = a.mean(axis, **keepdims_kw)\n",
      "c:\\Users\\duy8a\\AppData\\Local\\Programs\\Python\\Python310\\lib\\site-packages\\numpy\\core\\_methods.py:129: RuntimeWarning: invalid value encountered in scalar divide\n",
      "  ret = ret.dtype.type(ret / rcount)\n"
     ]
    },
    {
     "name": "stdout",
     "output_type": "stream",
     "text": [
      "length = 16, multiplier = 20\n"
     ]
    },
    {
     "name": "stderr",
     "output_type": "stream",
     "text": [
      "c:\\Users\\duy8a\\AppData\\Local\\Programs\\Python\\Python310\\lib\\site-packages\\numpy\\lib\\function_base.py:520: RuntimeWarning: Mean of empty slice.\n",
      "  avg = a.mean(axis, **keepdims_kw)\n",
      "c:\\Users\\duy8a\\AppData\\Local\\Programs\\Python\\Python310\\lib\\site-packages\\numpy\\core\\_methods.py:129: RuntimeWarning: invalid value encountered in scalar divide\n",
      "  ret = ret.dtype.type(ret / rcount)\n"
     ]
    },
    {
     "name": "stdout",
     "output_type": "stream",
     "text": [
      "\n",
      "length = 12, multiplier = 18\n"
     ]
    },
    {
     "name": "stderr",
     "output_type": "stream",
     "text": [
      "c:\\Users\\duy8a\\AppData\\Local\\Programs\\Python\\Python310\\lib\\site-packages\\numpy\\lib\\function_base.py:520: RuntimeWarning: Mean of empty slice.\n",
      "  avg = a.mean(axis, **keepdims_kw)\n",
      "c:\\Users\\duy8a\\AppData\\Local\\Programs\\Python\\Python310\\lib\\site-packages\\numpy\\core\\_methods.py:129: RuntimeWarning: invalid value encountered in scalar divide\n",
      "  ret = ret.dtype.type(ret / rcount)\n"
     ]
    },
    {
     "name": "stdout",
     "output_type": "stream",
     "text": [
      "length = 12, multiplier = 17\n",
      "length = 12, multiplier = 19\n"
     ]
    },
    {
     "name": "stderr",
     "output_type": "stream",
     "text": [
      "c:\\Users\\duy8a\\AppData\\Local\\Programs\\Python\\Python310\\lib\\site-packages\\numpy\\lib\\function_base.py:520: RuntimeWarning: Mean of empty slice.\n",
      "  avg = a.mean(axis, **keepdims_kw)\n",
      "c:\\Users\\duy8a\\AppData\\Local\\Programs\\Python\\Python310\\lib\\site-packages\\numpy\\core\\_methods.py:129: RuntimeWarning: invalid value encountered in scalar divide\n",
      "  ret = ret.dtype.type(ret / rcount)\n"
     ]
    },
    {
     "name": "stdout",
     "output_type": "stream",
     "text": [
      "length = 12, multiplier = 10\n",
      "length = 12, multiplier = 9\n",
      "length = 12, multiplier = 8\n",
      "length = 12, multiplier = 22\n"
     ]
    },
    {
     "name": "stderr",
     "output_type": "stream",
     "text": [
      "c:\\Users\\duy8a\\AppData\\Local\\Programs\\Python\\Python310\\lib\\site-packages\\numpy\\lib\\function_base.py:520: RuntimeWarning: Mean of empty slice.\n",
      "  avg = a.mean(axis, **keepdims_kw)\n",
      "c:\\Users\\duy8a\\AppData\\Local\\Programs\\Python\\Python310\\lib\\site-packages\\numpy\\core\\_methods.py:129: RuntimeWarning: invalid value encountered in scalar divide\n",
      "  ret = ret.dtype.type(ret / rcount)\n"
     ]
    },
    {
     "name": "stdout",
     "output_type": "stream",
     "text": [
      "length = 12, multiplier = 7\n",
      "length = 12, multiplier = 21\n"
     ]
    },
    {
     "name": "stderr",
     "output_type": "stream",
     "text": [
      "c:\\Users\\duy8a\\AppData\\Local\\Programs\\Python\\Python310\\lib\\site-packages\\numpy\\lib\\function_base.py:520: RuntimeWarning: Mean of empty slice.\n",
      "  avg = a.mean(axis, **keepdims_kw)\n",
      "c:\\Users\\duy8a\\AppData\\Local\\Programs\\Python\\Python310\\lib\\site-packages\\numpy\\core\\_methods.py:129: RuntimeWarning: invalid value encountered in scalar divide\n",
      "  ret = ret.dtype.type(ret / rcount)\n"
     ]
    },
    {
     "name": "stdout",
     "output_type": "stream",
     "text": [
      "length = 12, multiplier = 20\n"
     ]
    },
    {
     "name": "stderr",
     "output_type": "stream",
     "text": [
      "c:\\Users\\duy8a\\AppData\\Local\\Programs\\Python\\Python310\\lib\\site-packages\\numpy\\lib\\function_base.py:520: RuntimeWarning: Mean of empty slice.\n",
      "  avg = a.mean(axis, **keepdims_kw)\n",
      "c:\\Users\\duy8a\\AppData\\Local\\Programs\\Python\\Python310\\lib\\site-packages\\numpy\\core\\_methods.py:129: RuntimeWarning: invalid value encountered in scalar divide\n",
      "  ret = ret.dtype.type(ret / rcount)\n"
     ]
    },
    {
     "name": "stdout",
     "output_type": "stream",
     "text": [
      "\n",
      "length = 19, multiplier = 18\n"
     ]
    },
    {
     "name": "stderr",
     "output_type": "stream",
     "text": [
      "c:\\Users\\duy8a\\AppData\\Local\\Programs\\Python\\Python310\\lib\\site-packages\\numpy\\lib\\function_base.py:520: RuntimeWarning: Mean of empty slice.\n",
      "  avg = a.mean(axis, **keepdims_kw)\n",
      "c:\\Users\\duy8a\\AppData\\Local\\Programs\\Python\\Python310\\lib\\site-packages\\numpy\\core\\_methods.py:129: RuntimeWarning: invalid value encountered in scalar divide\n",
      "  ret = ret.dtype.type(ret / rcount)\n"
     ]
    },
    {
     "name": "stdout",
     "output_type": "stream",
     "text": [
      "length = 19, multiplier = 17\n",
      "length = 19, multiplier = 19\n"
     ]
    },
    {
     "name": "stderr",
     "output_type": "stream",
     "text": [
      "c:\\Users\\duy8a\\AppData\\Local\\Programs\\Python\\Python310\\lib\\site-packages\\numpy\\lib\\function_base.py:520: RuntimeWarning: Mean of empty slice.\n",
      "  avg = a.mean(axis, **keepdims_kw)\n",
      "c:\\Users\\duy8a\\AppData\\Local\\Programs\\Python\\Python310\\lib\\site-packages\\numpy\\core\\_methods.py:129: RuntimeWarning: invalid value encountered in scalar divide\n",
      "  ret = ret.dtype.type(ret / rcount)\n"
     ]
    },
    {
     "name": "stdout",
     "output_type": "stream",
     "text": [
      "length = 19, multiplier = 10\n",
      "length = 19, multiplier = 9\n",
      "length = 19, multiplier = 8\n",
      "length = 19, multiplier = 22\n"
     ]
    },
    {
     "name": "stderr",
     "output_type": "stream",
     "text": [
      "c:\\Users\\duy8a\\AppData\\Local\\Programs\\Python\\Python310\\lib\\site-packages\\numpy\\lib\\function_base.py:520: RuntimeWarning: Mean of empty slice.\n",
      "  avg = a.mean(axis, **keepdims_kw)\n",
      "c:\\Users\\duy8a\\AppData\\Local\\Programs\\Python\\Python310\\lib\\site-packages\\numpy\\core\\_methods.py:129: RuntimeWarning: invalid value encountered in scalar divide\n",
      "  ret = ret.dtype.type(ret / rcount)\n"
     ]
    },
    {
     "name": "stdout",
     "output_type": "stream",
     "text": [
      "length = 19, multiplier = 7\n",
      "length = 19, multiplier = 21\n"
     ]
    },
    {
     "name": "stderr",
     "output_type": "stream",
     "text": [
      "c:\\Users\\duy8a\\AppData\\Local\\Programs\\Python\\Python310\\lib\\site-packages\\numpy\\lib\\function_base.py:520: RuntimeWarning: Mean of empty slice.\n",
      "  avg = a.mean(axis, **keepdims_kw)\n",
      "c:\\Users\\duy8a\\AppData\\Local\\Programs\\Python\\Python310\\lib\\site-packages\\numpy\\core\\_methods.py:129: RuntimeWarning: invalid value encountered in scalar divide\n",
      "  ret = ret.dtype.type(ret / rcount)\n"
     ]
    },
    {
     "name": "stdout",
     "output_type": "stream",
     "text": [
      "length = 19, multiplier = 20\n"
     ]
    },
    {
     "name": "stderr",
     "output_type": "stream",
     "text": [
      "c:\\Users\\duy8a\\AppData\\Local\\Programs\\Python\\Python310\\lib\\site-packages\\numpy\\lib\\function_base.py:520: RuntimeWarning: Mean of empty slice.\n",
      "  avg = a.mean(axis, **keepdims_kw)\n",
      "c:\\Users\\duy8a\\AppData\\Local\\Programs\\Python\\Python310\\lib\\site-packages\\numpy\\core\\_methods.py:129: RuntimeWarning: invalid value encountered in scalar divide\n",
      "  ret = ret.dtype.type(ret / rcount)\n"
     ]
    },
    {
     "name": "stdout",
     "output_type": "stream",
     "text": [
      "\n",
      "length = 20, multiplier = 18\n"
     ]
    },
    {
     "name": "stderr",
     "output_type": "stream",
     "text": [
      "c:\\Users\\duy8a\\AppData\\Local\\Programs\\Python\\Python310\\lib\\site-packages\\numpy\\lib\\function_base.py:520: RuntimeWarning: Mean of empty slice.\n",
      "  avg = a.mean(axis, **keepdims_kw)\n",
      "c:\\Users\\duy8a\\AppData\\Local\\Programs\\Python\\Python310\\lib\\site-packages\\numpy\\core\\_methods.py:129: RuntimeWarning: invalid value encountered in scalar divide\n",
      "  ret = ret.dtype.type(ret / rcount)\n"
     ]
    },
    {
     "name": "stdout",
     "output_type": "stream",
     "text": [
      "length = 20, multiplier = 17\n",
      "length = 20, multiplier = 19\n"
     ]
    },
    {
     "name": "stderr",
     "output_type": "stream",
     "text": [
      "c:\\Users\\duy8a\\AppData\\Local\\Programs\\Python\\Python310\\lib\\site-packages\\numpy\\lib\\function_base.py:520: RuntimeWarning: Mean of empty slice.\n",
      "  avg = a.mean(axis, **keepdims_kw)\n",
      "c:\\Users\\duy8a\\AppData\\Local\\Programs\\Python\\Python310\\lib\\site-packages\\numpy\\core\\_methods.py:129: RuntimeWarning: invalid value encountered in scalar divide\n",
      "  ret = ret.dtype.type(ret / rcount)\n"
     ]
    },
    {
     "name": "stdout",
     "output_type": "stream",
     "text": [
      "length = 20, multiplier = 10\n",
      "length = 20, multiplier = 9\n",
      "length = 20, multiplier = 8\n",
      "length = 20, multiplier = 22\n"
     ]
    },
    {
     "name": "stderr",
     "output_type": "stream",
     "text": [
      "c:\\Users\\duy8a\\AppData\\Local\\Programs\\Python\\Python310\\lib\\site-packages\\numpy\\lib\\function_base.py:520: RuntimeWarning: Mean of empty slice.\n",
      "  avg = a.mean(axis, **keepdims_kw)\n",
      "c:\\Users\\duy8a\\AppData\\Local\\Programs\\Python\\Python310\\lib\\site-packages\\numpy\\core\\_methods.py:129: RuntimeWarning: invalid value encountered in scalar divide\n",
      "  ret = ret.dtype.type(ret / rcount)\n"
     ]
    },
    {
     "name": "stdout",
     "output_type": "stream",
     "text": [
      "length = 20, multiplier = 7\n",
      "length = 20, multiplier = 21\n"
     ]
    },
    {
     "name": "stderr",
     "output_type": "stream",
     "text": [
      "c:\\Users\\duy8a\\AppData\\Local\\Programs\\Python\\Python310\\lib\\site-packages\\numpy\\lib\\function_base.py:520: RuntimeWarning: Mean of empty slice.\n",
      "  avg = a.mean(axis, **keepdims_kw)\n",
      "c:\\Users\\duy8a\\AppData\\Local\\Programs\\Python\\Python310\\lib\\site-packages\\numpy\\core\\_methods.py:129: RuntimeWarning: invalid value encountered in scalar divide\n",
      "  ret = ret.dtype.type(ret / rcount)\n"
     ]
    },
    {
     "name": "stdout",
     "output_type": "stream",
     "text": [
      "length = 20, multiplier = 20\n"
     ]
    },
    {
     "name": "stderr",
     "output_type": "stream",
     "text": [
      "c:\\Users\\duy8a\\AppData\\Local\\Programs\\Python\\Python310\\lib\\site-packages\\numpy\\lib\\function_base.py:520: RuntimeWarning: Mean of empty slice.\n",
      "  avg = a.mean(axis, **keepdims_kw)\n",
      "c:\\Users\\duy8a\\AppData\\Local\\Programs\\Python\\Python310\\lib\\site-packages\\numpy\\core\\_methods.py:129: RuntimeWarning: invalid value encountered in scalar divide\n",
      "  ret = ret.dtype.type(ret / rcount)\n"
     ]
    },
    {
     "name": "stdout",
     "output_type": "stream",
     "text": [
      "\n",
      "length = 18, multiplier = 18\n"
     ]
    },
    {
     "name": "stderr",
     "output_type": "stream",
     "text": [
      "c:\\Users\\duy8a\\AppData\\Local\\Programs\\Python\\Python310\\lib\\site-packages\\numpy\\lib\\function_base.py:520: RuntimeWarning: Mean of empty slice.\n",
      "  avg = a.mean(axis, **keepdims_kw)\n",
      "c:\\Users\\duy8a\\AppData\\Local\\Programs\\Python\\Python310\\lib\\site-packages\\numpy\\core\\_methods.py:129: RuntimeWarning: invalid value encountered in scalar divide\n",
      "  ret = ret.dtype.type(ret / rcount)\n"
     ]
    },
    {
     "name": "stdout",
     "output_type": "stream",
     "text": [
      "length = 18, multiplier = 17\n",
      "length = 18, multiplier = 19\n"
     ]
    },
    {
     "name": "stderr",
     "output_type": "stream",
     "text": [
      "c:\\Users\\duy8a\\AppData\\Local\\Programs\\Python\\Python310\\lib\\site-packages\\numpy\\lib\\function_base.py:520: RuntimeWarning: Mean of empty slice.\n",
      "  avg = a.mean(axis, **keepdims_kw)\n",
      "c:\\Users\\duy8a\\AppData\\Local\\Programs\\Python\\Python310\\lib\\site-packages\\numpy\\core\\_methods.py:129: RuntimeWarning: invalid value encountered in scalar divide\n",
      "  ret = ret.dtype.type(ret / rcount)\n"
     ]
    },
    {
     "name": "stdout",
     "output_type": "stream",
     "text": [
      "length = 18, multiplier = 10\n",
      "length = 18, multiplier = 9\n",
      "length = 18, multiplier = 8\n",
      "length = 18, multiplier = 22\n"
     ]
    },
    {
     "name": "stderr",
     "output_type": "stream",
     "text": [
      "c:\\Users\\duy8a\\AppData\\Local\\Programs\\Python\\Python310\\lib\\site-packages\\numpy\\lib\\function_base.py:520: RuntimeWarning: Mean of empty slice.\n",
      "  avg = a.mean(axis, **keepdims_kw)\n",
      "c:\\Users\\duy8a\\AppData\\Local\\Programs\\Python\\Python310\\lib\\site-packages\\numpy\\core\\_methods.py:129: RuntimeWarning: invalid value encountered in scalar divide\n",
      "  ret = ret.dtype.type(ret / rcount)\n"
     ]
    },
    {
     "name": "stdout",
     "output_type": "stream",
     "text": [
      "length = 18, multiplier = 7\n",
      "length = 18, multiplier = 21\n"
     ]
    },
    {
     "name": "stderr",
     "output_type": "stream",
     "text": [
      "c:\\Users\\duy8a\\AppData\\Local\\Programs\\Python\\Python310\\lib\\site-packages\\numpy\\lib\\function_base.py:520: RuntimeWarning: Mean of empty slice.\n",
      "  avg = a.mean(axis, **keepdims_kw)\n",
      "c:\\Users\\duy8a\\AppData\\Local\\Programs\\Python\\Python310\\lib\\site-packages\\numpy\\core\\_methods.py:129: RuntimeWarning: invalid value encountered in scalar divide\n",
      "  ret = ret.dtype.type(ret / rcount)\n"
     ]
    },
    {
     "name": "stdout",
     "output_type": "stream",
     "text": [
      "length = 18, multiplier = 20\n"
     ]
    },
    {
     "name": "stderr",
     "output_type": "stream",
     "text": [
      "c:\\Users\\duy8a\\AppData\\Local\\Programs\\Python\\Python310\\lib\\site-packages\\numpy\\lib\\function_base.py:520: RuntimeWarning: Mean of empty slice.\n",
      "  avg = a.mean(axis, **keepdims_kw)\n",
      "c:\\Users\\duy8a\\AppData\\Local\\Programs\\Python\\Python310\\lib\\site-packages\\numpy\\core\\_methods.py:129: RuntimeWarning: invalid value encountered in scalar divide\n",
      "  ret = ret.dtype.type(ret / rcount)\n"
     ]
    },
    {
     "name": "stdout",
     "output_type": "stream",
     "text": [
      "\n",
      "length = 22, multiplier = 18\n"
     ]
    },
    {
     "name": "stderr",
     "output_type": "stream",
     "text": [
      "c:\\Users\\duy8a\\AppData\\Local\\Programs\\Python\\Python310\\lib\\site-packages\\numpy\\lib\\function_base.py:520: RuntimeWarning: Mean of empty slice.\n",
      "  avg = a.mean(axis, **keepdims_kw)\n",
      "c:\\Users\\duy8a\\AppData\\Local\\Programs\\Python\\Python310\\lib\\site-packages\\numpy\\core\\_methods.py:129: RuntimeWarning: invalid value encountered in scalar divide\n",
      "  ret = ret.dtype.type(ret / rcount)\n"
     ]
    },
    {
     "name": "stdout",
     "output_type": "stream",
     "text": [
      "length = 22, multiplier = 17\n",
      "length = 22, multiplier = 19\n"
     ]
    },
    {
     "name": "stderr",
     "output_type": "stream",
     "text": [
      "c:\\Users\\duy8a\\AppData\\Local\\Programs\\Python\\Python310\\lib\\site-packages\\numpy\\lib\\function_base.py:520: RuntimeWarning: Mean of empty slice.\n",
      "  avg = a.mean(axis, **keepdims_kw)\n",
      "c:\\Users\\duy8a\\AppData\\Local\\Programs\\Python\\Python310\\lib\\site-packages\\numpy\\core\\_methods.py:129: RuntimeWarning: invalid value encountered in scalar divide\n",
      "  ret = ret.dtype.type(ret / rcount)\n"
     ]
    },
    {
     "name": "stdout",
     "output_type": "stream",
     "text": [
      "length = 22, multiplier = 10\n",
      "length = 22, multiplier = 9\n",
      "length = 22, multiplier = 8\n",
      "length = 22, multiplier = 22\n"
     ]
    },
    {
     "name": "stderr",
     "output_type": "stream",
     "text": [
      "c:\\Users\\duy8a\\AppData\\Local\\Programs\\Python\\Python310\\lib\\site-packages\\numpy\\lib\\function_base.py:520: RuntimeWarning: Mean of empty slice.\n",
      "  avg = a.mean(axis, **keepdims_kw)\n",
      "c:\\Users\\duy8a\\AppData\\Local\\Programs\\Python\\Python310\\lib\\site-packages\\numpy\\core\\_methods.py:129: RuntimeWarning: invalid value encountered in scalar divide\n",
      "  ret = ret.dtype.type(ret / rcount)\n"
     ]
    },
    {
     "name": "stdout",
     "output_type": "stream",
     "text": [
      "length = 22, multiplier = 7\n",
      "length = 22, multiplier = 21\n"
     ]
    },
    {
     "name": "stderr",
     "output_type": "stream",
     "text": [
      "c:\\Users\\duy8a\\AppData\\Local\\Programs\\Python\\Python310\\lib\\site-packages\\numpy\\lib\\function_base.py:520: RuntimeWarning: Mean of empty slice.\n",
      "  avg = a.mean(axis, **keepdims_kw)\n",
      "c:\\Users\\duy8a\\AppData\\Local\\Programs\\Python\\Python310\\lib\\site-packages\\numpy\\core\\_methods.py:129: RuntimeWarning: invalid value encountered in scalar divide\n",
      "  ret = ret.dtype.type(ret / rcount)\n"
     ]
    },
    {
     "name": "stdout",
     "output_type": "stream",
     "text": [
      "length = 22, multiplier = 20\n",
      "\n"
     ]
    },
    {
     "name": "stderr",
     "output_type": "stream",
     "text": [
      "c:\\Users\\duy8a\\AppData\\Local\\Programs\\Python\\Python310\\lib\\site-packages\\numpy\\lib\\function_base.py:520: RuntimeWarning: Mean of empty slice.\n",
      "  avg = a.mean(axis, **keepdims_kw)\n",
      "c:\\Users\\duy8a\\AppData\\Local\\Programs\\Python\\Python310\\lib\\site-packages\\numpy\\core\\_methods.py:129: RuntimeWarning: invalid value encountered in scalar divide\n",
      "  ret = ret.dtype.type(ret / rcount)\n"
     ]
    }
   ],
   "source": [
    "from backtest import ResultRecorder, backtest\n",
    "\n",
    "print(f'coin = {coin}, timeframe = {timeframe}')\n",
    "length_in_day = 1/6\n",
    "result_recorder = ResultRecorder()\n",
    "\n",
    "test_data_df = pandas.read_csv(f\"../0_historical_data_period1/{coin}_{timeframe}.csv\")\n",
    "\n",
    "# Rename columns and drop some to reduce memory weight\n",
    "test_data_df['timestamp'] = test_data_df['time_period_start']\n",
    "test_data_df['open'] = test_data_df['price_open']\n",
    "test_data_df['high'] = test_data_df['price_high']\n",
    "test_data_df['low'] = test_data_df['price_low']\n",
    "test_data_df['close'] = test_data_df['price_close']\n",
    "test_data_df.drop(['time_period_start', 'time_open', \n",
    "        'price_open', 'price_high', 'price_low', \n",
    "        'price_close', 'volume_traded', 'trades_count'], axis=1)\n",
    "test_data_df = test_data_df.iloc[::-1].reset_index()\n",
    "print('length_of_df =', len(test_data_df), end=' ')\n",
    "\n",
    "for length in good_length_list:\n",
    "    for multiplier in good_multiplier_list:\n",
    "        print(f'length = {length}, multiplier = {multiplier}')\n",
    "\n",
    "        supertrend_data, balance = backtest(length, multiplier, result_recorder, df=test_data_df)\n",
    "        \n",
    "        result_recorder.add_new_row({\n",
    "            'coinpair': coin,\n",
    "            'length_in_days': int(length_in_day*len(supertrend_data)), \n",
    "            'balance': int(balance), \n",
    "            'config_length': length, \n",
    "            'config_multiplier': multiplier, \n",
    "            'no_of_orders': result_recorder.order_number, \n",
    "            'number_of_profit_order': result_recorder.get_profit_order_number(), \n",
    "            'number_of_loss_order': result_recorder.get_loss_order_number(), \n",
    "            'average_profit': round(result_recorder.get_average_profit(),1), \n",
    "            'average_loss': round(result_recorder.get_average_loss(),1),\n",
    "            'profit_amounts': f\"\\\"{[round(x, 2) for x in result_recorder.get_profit_orders()]}\\\"\",\n",
    "            'loss_amounts': f\"\\\"{[round(x, 2) for x in result_recorder.get_loss_orders()]}\\\"\",\n",
    "            'avarage_pnl_per_month': round(balance / (length_in_day*len(supertrend_data)) * 30,1),\n",
    "        })\n",
    "\n",
    "        ## Save trade history for each configuration of each coin and timeframe combination\n",
    "        result_recorder.save_in_csv(f'backtest_result_on_different_period_{coin_timeframe}.csv')\n",
    "        result_recorder.reset()\n",
    "    print()"
   ]
  },
  {
   "cell_type": "markdown",
   "metadata": {},
   "source": [
    "## Repeat the process for other coins"
   ]
  },
  {
   "cell_type": "code",
   "execution_count": 37,
   "metadata": {},
   "outputs": [
    {
     "name": "stdout",
     "output_type": "stream",
     "text": [
      "length_of_df = 2227 coin_timeframe: btc_4h\n",
      "length = 8, multiplier = 18\n",
      "length = 8, multiplier = 17\n",
      "length = 8, multiplier = 19\n",
      "length = 8, multiplier = 10\n",
      "length = 8, multiplier = 9\n",
      "length = 8, multiplier = 8\n",
      "length = 8, multiplier = 22\n",
      "length = 8, multiplier = 7\n",
      "length = 8, multiplier = 21\n",
      "length = 8, multiplier = 20\n",
      "\n",
      "coin_timeframe: btc_4h\n",
      "length = 17, multiplier = 18\n",
      "length = 17, multiplier = 17\n",
      "length = 17, multiplier = 19\n",
      "length = 17, multiplier = 10\n",
      "length = 17, multiplier = 9\n",
      "length = 17, multiplier = 8\n",
      "length = 17, multiplier = 22\n",
      "length = 17, multiplier = 7\n",
      "length = 17, multiplier = 21\n",
      "length = 17, multiplier = 20\n",
      "\n",
      "coin_timeframe: btc_4h\n",
      "length = 13, multiplier = 18\n",
      "length = 13, multiplier = 17\n",
      "length = 13, multiplier = 19\n",
      "length = 13, multiplier = 10\n",
      "length = 13, multiplier = 9\n",
      "length = 13, multiplier = 8\n",
      "length = 13, multiplier = 22\n",
      "length = 13, multiplier = 7\n",
      "length = 13, multiplier = 21\n",
      "length = 13, multiplier = 20\n",
      "\n",
      "coin_timeframe: btc_4h\n",
      "length = 21, multiplier = 18\n",
      "length = 21, multiplier = 17\n",
      "length = 21, multiplier = 19\n",
      "length = 21, multiplier = 10\n",
      "length = 21, multiplier = 9\n",
      "length = 21, multiplier = 8\n",
      "length = 21, multiplier = 22\n",
      "length = 21, multiplier = 7\n",
      "length = 21, multiplier = 21\n",
      "length = 21, multiplier = 20\n",
      "\n",
      "coin_timeframe: btc_4h\n",
      "length = 16, multiplier = 18\n",
      "length = 16, multiplier = 17\n",
      "length = 16, multiplier = 19\n",
      "length = 16, multiplier = 10\n",
      "length = 16, multiplier = 9\n",
      "length = 16, multiplier = 8\n",
      "length = 16, multiplier = 22\n",
      "length = 16, multiplier = 7\n",
      "length = 16, multiplier = 21\n",
      "length = 16, multiplier = 20\n",
      "\n",
      "coin_timeframe: btc_4h\n",
      "length = 12, multiplier = 18\n",
      "length = 12, multiplier = 17\n",
      "length = 12, multiplier = 19\n",
      "length = 12, multiplier = 10\n",
      "length = 12, multiplier = 9\n",
      "length = 12, multiplier = 8\n",
      "length = 12, multiplier = 22\n",
      "length = 12, multiplier = 7\n",
      "length = 12, multiplier = 21\n",
      "length = 12, multiplier = 20\n",
      "\n",
      "coin_timeframe: btc_4h\n",
      "length = 19, multiplier = 18\n",
      "length = 19, multiplier = 17\n",
      "length = 19, multiplier = 19\n",
      "length = 19, multiplier = 10\n",
      "length = 19, multiplier = 9\n",
      "length = 19, multiplier = 8\n",
      "length = 19, multiplier = 22\n",
      "length = 19, multiplier = 7\n",
      "length = 19, multiplier = 21\n",
      "length = 19, multiplier = 20\n",
      "\n",
      "coin_timeframe: btc_4h\n",
      "length = 20, multiplier = 18\n",
      "length = 20, multiplier = 17\n",
      "length = 20, multiplier = 19\n",
      "length = 20, multiplier = 10\n",
      "length = 20, multiplier = 9\n",
      "length = 20, multiplier = 8\n",
      "length = 20, multiplier = 22\n",
      "length = 20, multiplier = 7\n",
      "length = 20, multiplier = 21\n",
      "length = 20, multiplier = 20\n",
      "\n",
      "coin_timeframe: btc_4h\n",
      "length = 18, multiplier = 18\n",
      "length = 18, multiplier = 17\n",
      "length = 18, multiplier = 19\n",
      "length = 18, multiplier = 10\n",
      "length = 18, multiplier = 9\n",
      "length = 18, multiplier = 8\n",
      "length = 18, multiplier = 22\n",
      "length = 18, multiplier = 7\n",
      "length = 18, multiplier = 21\n",
      "length = 18, multiplier = 20\n",
      "\n",
      "coin_timeframe: btc_4h\n",
      "length = 22, multiplier = 18\n",
      "length = 22, multiplier = 17\n",
      "length = 22, multiplier = 19\n",
      "length = 22, multiplier = 10\n",
      "length = 22, multiplier = 9\n",
      "length = 22, multiplier = 8\n",
      "length = 22, multiplier = 22\n",
      "length = 22, multiplier = 7\n",
      "length = 22, multiplier = 21\n",
      "length = 22, multiplier = 20\n",
      "\n"
     ]
    }
   ],
   "source": [
    "# coins = ['eth', 'xrp', 'sol']\n",
    "coins = ['eth', 'btc']\n",
    "timeframes = ['4h']\n",
    "\n",
    "for coin in coins:\n",
    "    for timeframe in timeframes:\n",
    "        coin_timeframe = f'{coin}_{timeframe}'\n",
    "        backtest_result_df = pandas.read_csv(f\"../1_backtest/backtest_result_{coin_timeframe}.csv\")\n",
    "        backtest_result_df.fillna(0, inplace=True)\n",
    "\n",
    "        top10_length = get_top10_length_riskAdjusted(backtest_result_df).toplist\n",
    "        top10_multiplier = get_top10_multiplier_riskAdjusted(backtest_result_df).toplist\n",
    "\n",
    "        good_length_list = [item[1] for item in top10_length]\n",
    "        good_multiplier_list = [item[1] for item in top10_multiplier]\n",
    "\n",
    "        best_length = heapq.nlargest(1, top10_length)[0][1]\n",
    "        best_multiplier = heapq.nlargest(1, top10_multiplier)[0][1]\n",
    "\n",
    "        backtest_result_df = get_top_backtest_result_with_these_configs(backtest_result_df, good_length_list, good_multiplier_list, f\"./backtest_result_filtered_with_good_configs_{coin_timeframe}.csv\")\n",
    "\n",
    "\n",
    "        # Backtest again using top configs on data of different period\n",
    "        length_in_day = 1/6\n",
    "        result_recorder = ResultRecorder()\n",
    "\n",
    "        test_data_df = pandas.read_csv(f\"../0_historical_data_period3/{coin}_{timeframe}.csv\")\n",
    "\n",
    "        # Rename columns and drop some to reduce memory weight\n",
    "        test_data_df['timestamp'] = test_data_df['time_period_start']\n",
    "        test_data_df['open'] = test_data_df['price_open']\n",
    "        test_data_df['high'] = test_data_df['price_high']\n",
    "        test_data_df['low'] = test_data_df['price_low']\n",
    "        test_data_df['close'] = test_data_df['price_close']\n",
    "        test_data_df.drop(['time_period_start', 'time_open', \n",
    "                'price_open', 'price_high', 'price_low', \n",
    "                'price_close', 'volume_traded', 'trades_count'], axis=1)\n",
    "        test_data_df = test_data_df.iloc[::-1].reset_index()\n",
    "        print('length_of_df =', len(test_data_df), end=' ')\n",
    "\n",
    "        for length in good_length_list:\n",
    "            print(f'coin_timeframe: {coin_timeframe}')\n",
    "            for multiplier in good_multiplier_list:\n",
    "                print(f'length = {length}, multiplier = {multiplier}')\n",
    "\n",
    "                supertrend_data, balance = backtest(length, multiplier, result_recorder, df=test_data_df)\n",
    "                \n",
    "                result_recorder.add_new_row({\n",
    "                    'coinpair': coin,\n",
    "                    'length_in_days': int(length_in_day*len(supertrend_data)), \n",
    "                    'balance': int(balance), \n",
    "                    'config_length': length, \n",
    "                    'config_multiplier': multiplier, \n",
    "                    'no_of_orders': result_recorder.order_number, \n",
    "                    'number_of_profit_order': result_recorder.get_profit_order_number(), \n",
    "                    'number_of_loss_order': result_recorder.get_loss_order_number(), \n",
    "                    'average_profit': round(result_recorder.get_average_profit(),1), \n",
    "                    'average_loss': round(result_recorder.get_average_loss(),1),\n",
    "                    'profit_amounts': f\"\\\"{[round(x, 2) for x in result_recorder.get_profit_orders()]}\\\"\",\n",
    "                    'loss_amounts': f\"\\\"{[round(x, 2) for x in result_recorder.get_loss_orders()]}\\\"\",\n",
    "                    'avarage_pnl_per_month': round(balance / (length_in_day*len(supertrend_data)) * 30,1),\n",
    "                })\n",
    "\n",
    "                ## Save trade history for each configuration of each coin and timeframe combination\n",
    "                supertrend_data.to_csv(f'supertrend_data/period3_{coin_timeframe}_{length}_{multiplier}.csv', index=False)\n",
    "                # result_recorder.save_in_csv(f'backtest_result_on_period3_{coin_timeframe}.csv')\n",
    "                # result_recorder.reset()\n",
    "            print()"
   ]
  },
  {
   "attachments": {
    "image-2.png": {
     "image/png": "[encoded data removed]"
    },
    "image-3.png": {
     "image/png": "[encoded data removed]"
    },
    "image-4.png": {
     "image/png": "[encoded data removed]"
    },
    "image-5.png": {
     "image/png": "[encoded data removed]"
    },
    "image-6.png": {
     "image/png": "[encoded data removed]"
    },
    "image-7.png": {
     "image/png": "[encoded data removed]"
    },
    "image-8.png": {
     "image/png": "[encoded data removed]"
    },
    "image.png": {
     "image/png": "[encoded data removed]"
    }
   },
   "cell_type": "markdown",
   "metadata": {},
   "source": [
    "## Backtest result and analysis\n",
    "\n",
    "Basics:\n",
    "- Algo: Supertrend: good with trends in crypto market\n",
    "- Dataset: Bear dataset: 3.2022-12.2023, Bull data: 3.2020-3.2022\n",
    "\n",
    "\n",
    "Final thoughts/comments:\n",
    "1. We should also aim for making more trades = low configs. the more orders it trades, the more chances it has to average out the big losses (if there's any). Of course, profit will be reduced.\n",
    "2. Many configs have very similar performance, we can consider divide the trade size to many configs in the same trading pair, reducing the impact of low performers.  \n",
    "3. During the bull market, the algo likes to use greater configs to ride all the way of the bull market. If notice a transition to bull market, we can combine with idea in `3.`, using 50% for more conservative, low configs and the rest for profit-maximising, high configs.  \n",
    "4. This algo is not very effective and SAFE for small-cap coins as there are not many patterns we can see from the backtest result. They also have greater volatility, make too few trades and their average loss per trade is much higher compared to BTC and ETH (can be x2 or x3 higher). So, using this algo on small-cap coins is not recommended. There is one exception which is XRP in bull market.\n",
    "5. **Only trade with money you can lose**!!!!!!!!!!!!!!!\n",
    "\n",
    "Bitcoin\n",
    "- Best length: \n",
    "    - Bear: 19->21, multiplier: 7 and also 21,22 => Conservative bot (19,7) (21,7) (21,21)\n",
    "        - I'd rather choose multiplier=7 because this allows the bot makes more trades.  (check `Final thoughs 1`)\n",
    "        - ![image-5.png](attachment:image-5.png)\n",
    "    - Bull: Length 19->21, multiplier: 7,8\n",
    "        - Varied returns with length 19->21, good multipliers shift to lower values - 7 and 8. (can also use `Final thoughts 2 and 3`)\n",
    "        - ![image-6.png](attachment:image-6.png)\n",
    "\n",
    "ETH\n",
    "- Best: \n",
    "    - Bear: length 8,9,12->15, multiplier: 7,8. \n",
    "        - ![image.png](attachment:image.png)\n",
    "    - Bull: length 8,9,12->20, multiplier 19->22. \n",
    "        - Greater configs as the algo tries to ride all the way on bull market (and most configs only make 1 trade ). (check `Final thoughts 2 and 3`)  \n",
    "        - ![image-4.png](attachment:image-4.png)\n",
    "\n",
    "SOL\n",
    "- Best: \n",
    "    - Bear: length 7, 13-17,19, multiplier: 7,8. \n",
    "        - Many loss trades (10-15%) during bear market, which can be devastating if they happen consecutively. \n",
    "        - Returns (most are ~20%) are even lower than BTC/ETH (40-50%) due to high volatility for small-cap coins.\n",
    "        - ![image-2.png](attachment:image-2.png)\n",
    "    - Bull: length 17,21, multiplier 7->9, 15,16,19->20,22. \n",
    "        - The same phenomenon happens during ETH bull market -- top profits are from high configs\n",
    "        - ![image-3.png](attachment:image-3.png)\n",
    "\n",
    "XRP\n",
    "- Best: \n",
    "    - Bear: length 13-15, multiplier: 19->21. \n",
    "        - Quite stable returns for top configs but they only make 1 trade :D??\n",
    "        - ![image-7.png](attachment:image-7.png)\n",
    "    - Bull: length 7->9,12->15, multiplier 8,11,12,13. \n",
    "        - Trading XRP in bull market is actually pretty good. \n",
    "        - The bot makes many trades in top configs. And the top configs are in group as well (i.e. many consecutive values)\n",
    "        - ![image-8.png](attachment:image-8.png)\n",
    "\n",
    "\n",
    "\n",
    "Test on pure bear market, 1.11.2021 - 15.12.2022\n",
    "Integrate chart, to know where it loses and wins, real psychology when bot is running."
   ]
  },
  {
   "attachments": {},
   "cell_type": "markdown",
   "metadata": {},
   "source": [
    "# What now?\n",
    "\n",
    "Look at the good lengths, multipliers, pairs in [/sandbox/backtest_summary/](/sandbox/backtest_summary/) and choose 1 or more configurations to run BitTracker with"
   ]
  }
 ],
 "metadata": {
  "kernelspec": {
   "display_name": "Python 3.9.12 ('base')",
   "language": "python",
   "name": "python3"
  },
  "language_info": {
   "codemirror_mode": {
    "name": "ipython",
    "version": 3
   },
   "file_extension": ".py",
   "mimetype": "text/x-python",
   "name": "python",
   "nbconvert_exporter": "python",
   "pygments_lexer": "ipython3",
   "version": "3.10.5"
  },
  "orig_nbformat": 4,
  "vscode": {
   "interpreter": {
    "hash": "2ab812a2b5c27365a4febeabdd4985d07d9e356eb4c90bfc41f1b8782fa1f8e9"
   }
  }
 },
 "nbformat": 4,
 "nbformat_minor": 2
}
